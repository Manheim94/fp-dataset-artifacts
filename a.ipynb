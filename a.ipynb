{
 "cells": [
  {
   "cell_type": "markdown",
   "metadata": {},
   "source": [
    "## Prepare SNLI and Contrast Data"
   ]
  },
  {
   "cell_type": "code",
   "execution_count": 21,
   "metadata": {},
   "outputs": [
    {
     "name": "stderr",
     "output_type": "stream",
     "text": [
      "/home/menghao_yang/miniconda3/envs/torch/lib/python3.11/site-packages/tqdm/auto.py:21: TqdmWarning: IProgress not found. Please update jupyter and ipywidgets. See https://ipywidgets.readthedocs.io/en/stable/user_install.html\n",
      "  from .autonotebook import tqdm as notebook_tqdm\n"
     ]
    },
    {
     "data": {
      "text/plain": [
       "DatasetDict({\n",
       "    test: Dataset({\n",
       "        features: ['premise', 'hypothesis', 'label'],\n",
       "        num_rows: 10000\n",
       "    })\n",
       "    train: Dataset({\n",
       "        features: ['premise', 'hypothesis', 'label'],\n",
       "        num_rows: 550152\n",
       "    })\n",
       "    validation: Dataset({\n",
       "        features: ['premise', 'hypothesis', 'label'],\n",
       "        num_rows: 10000\n",
       "    })\n",
       "})"
      ]
     },
     "execution_count": 21,
     "metadata": {},
     "output_type": "execute_result"
    }
   ],
   "source": [
    "import datasets\n",
    "dataset = datasets.load_dataset('snli')\n",
    "dataset\n"
   ]
  },
  {
   "cell_type": "markdown",
   "metadata": {},
   "source": [
    "The original training dataset size around 550,152\n",
    "The original validation dataset size around 10,000"
   ]
  },
  {
   "cell_type": "code",
   "execution_count": 31,
   "metadata": {},
   "outputs": [
    {
     "data": {
      "text/html": [
       "<div>\n",
       "<style scoped>\n",
       "    .dataframe tbody tr th:only-of-type {\n",
       "        vertical-align: middle;\n",
       "    }\n",
       "\n",
       "    .dataframe tbody tr th {\n",
       "        vertical-align: top;\n",
       "    }\n",
       "\n",
       "    .dataframe thead th {\n",
       "        text-align: right;\n",
       "    }\n",
       "</style>\n",
       "<table border=\"1\" class=\"dataframe\">\n",
       "  <thead>\n",
       "    <tr style=\"text-align: right;\">\n",
       "      <th></th>\n",
       "      <th>premise</th>\n",
       "      <th>hypothesis</th>\n",
       "      <th>label</th>\n",
       "      <th>type</th>\n",
       "    </tr>\n",
       "  </thead>\n",
       "  <tbody>\n",
       "    <tr>\n",
       "      <th>0</th>\n",
       "      <td>It is a man who is lying on an air mattress.</td>\n",
       "      <td>It is the man which is asleep.</td>\n",
       "      <td>1</td>\n",
       "      <td>*;it cleft: ARG1;it cleft: ARG1</td>\n",
       "    </tr>\n",
       "    <tr>\n",
       "      <th>1</th>\n",
       "      <td>Her wind instrument is played by a woman along...</td>\n",
       "      <td>A band is belonged to by the woman.</td>\n",
       "      <td>1</td>\n",
       "      <td>*;passive: ARG2;passive: ARG2</td>\n",
       "    </tr>\n",
       "    <tr>\n",
       "      <th>2</th>\n",
       "      <td>It is a woman who plays her wind instrument al...</td>\n",
       "      <td>It is the woman who belongs to a band.</td>\n",
       "      <td>1</td>\n",
       "      <td>*;it cleft: ARG1;it cleft: ARG1</td>\n",
       "    </tr>\n",
       "    <tr>\n",
       "      <th>3</th>\n",
       "      <td>A girl with a ponytail in a black soccer unifo...</td>\n",
       "      <td>A player will get ready to kick the ball.</td>\n",
       "      <td>1</td>\n",
       "      <td>entailment;past simple;future simple</td>\n",
       "    </tr>\n",
       "    <tr>\n",
       "      <th>4</th>\n",
       "      <td>A girl with a ponytail in a black soccer unifo...</td>\n",
       "      <td>A player gets ready to kick the ball.</td>\n",
       "      <td>1</td>\n",
       "      <td>entailment;may;original</td>\n",
       "    </tr>\n",
       "    <tr>\n",
       "      <th>...</th>\n",
       "      <td>...</td>\n",
       "      <td>...</td>\n",
       "      <td>...</td>\n",
       "      <td>...</td>\n",
       "    </tr>\n",
       "    <tr>\n",
       "      <th>189109</th>\n",
       "      <td>Children may play in a water fountain.</td>\n",
       "      <td>The children may be wet.</td>\n",
       "      <td>1</td>\n",
       "      <td>entailment;may;may</td>\n",
       "    </tr>\n",
       "    <tr>\n",
       "      <th>189110</th>\n",
       "      <td>It is children who play in a water fountain.</td>\n",
       "      <td>It is the children who are wet.</td>\n",
       "      <td>0</td>\n",
       "      <td>*;it cleft: ARG1;it cleft: ARG1</td>\n",
       "    </tr>\n",
       "    <tr>\n",
       "      <th>189111</th>\n",
       "      <td>These may be very well groomed animals.</td>\n",
       "      <td>The animal's fur looked well kept</td>\n",
       "      <td>1</td>\n",
       "      <td>entailment;may;original</td>\n",
       "    </tr>\n",
       "    <tr>\n",
       "      <th>189112</th>\n",
       "      <td>These may be very well groomed animals.</td>\n",
       "      <td>The animal's fur may look well-kept.</td>\n",
       "      <td>1</td>\n",
       "      <td>entailment;may;may</td>\n",
       "    </tr>\n",
       "    <tr>\n",
       "      <th>189113</th>\n",
       "      <td>It is these that are very well groomed animals.</td>\n",
       "      <td>It is the animal's fur who looked well-kept.</td>\n",
       "      <td>0</td>\n",
       "      <td>*;it cleft: ARG1;it cleft: ARG1</td>\n",
       "    </tr>\n",
       "  </tbody>\n",
       "</table>\n",
       "<p>189114 rows × 4 columns</p>\n",
       "</div>"
      ],
      "text/plain": [
       "                                                  premise  \\\n",
       "0            It is a man who is lying on an air mattress.   \n",
       "1       Her wind instrument is played by a woman along...   \n",
       "2       It is a woman who plays her wind instrument al...   \n",
       "3       A girl with a ponytail in a black soccer unifo...   \n",
       "4       A girl with a ponytail in a black soccer unifo...   \n",
       "...                                                   ...   \n",
       "189109             Children may play in a water fountain.   \n",
       "189110       It is children who play in a water fountain.   \n",
       "189111            These may be very well groomed animals.   \n",
       "189112            These may be very well groomed animals.   \n",
       "189113    It is these that are very well groomed animals.   \n",
       "\n",
       "                                          hypothesis  label  \\\n",
       "0                     It is the man which is asleep.      1   \n",
       "1                A band is belonged to by the woman.      1   \n",
       "2             It is the woman who belongs to a band.      1   \n",
       "3          A player will get ready to kick the ball.      1   \n",
       "4              A player gets ready to kick the ball.      1   \n",
       "...                                              ...    ...   \n",
       "189109                      The children may be wet.      1   \n",
       "189110               It is the children who are wet.      0   \n",
       "189111             The animal's fur looked well kept      1   \n",
       "189112          The animal's fur may look well-kept.      1   \n",
       "189113  It is the animal's fur who looked well-kept.      0   \n",
       "\n",
       "                                        type  \n",
       "0            *;it cleft: ARG1;it cleft: ARG1  \n",
       "1              *;passive: ARG2;passive: ARG2  \n",
       "2            *;it cleft: ARG1;it cleft: ARG1  \n",
       "3       entailment;past simple;future simple  \n",
       "4                    entailment;may;original  \n",
       "...                                      ...  \n",
       "189109                    entailment;may;may  \n",
       "189110       *;it cleft: ARG1;it cleft: ARG1  \n",
       "189111               entailment;may;original  \n",
       "189112                    entailment;may;may  \n",
       "189113       *;it cleft: ARG1;it cleft: ARG1  \n",
       "\n",
       "[189114 rows x 4 columns]"
      ]
     },
     "execution_count": 31,
     "metadata": {},
     "output_type": "execute_result"
    }
   ],
   "source": [
    "import pandas as pd\n",
    "data=pd.read_csv('LIT_auto-gen-contrast-set/generate/snli_aug/train.tsv',sep='\\t')\n",
    "data2 =  data[data['captionID']!='original' ].reset_index()\n",
    "data3 = data2[ ['sentence1','sentence2','gold_label','captionID'] ]\n",
    "labelMap = {'entailment': 0, 'neutral': 1, 'contradiction': 2}\n",
    "data4 = data3.replace({\"gold_label\": labelMap})\n",
    "contrast_train = data4.rename(columns={'sentence1': 'premise', 'sentence2': 'hypothesis', 'gold_label': 'label', 'captionID': 'type'})\n",
    "contrast_train"
   ]
  },
  {
   "cell_type": "code",
   "execution_count": 32,
   "metadata": {},
   "outputs": [],
   "source": [
    "output_path = \"contrast/train.jsonl\"\n",
    "\n",
    "with open(output_path, \"w\") as f:\n",
    "    f.write(contrast_train.to_json(orient='records', lines=True))"
   ]
  },
  {
   "cell_type": "code",
   "execution_count": 33,
   "metadata": {},
   "outputs": [
    {
     "data": {
      "text/html": [
       "<div>\n",
       "<style scoped>\n",
       "    .dataframe tbody tr th:only-of-type {\n",
       "        vertical-align: middle;\n",
       "    }\n",
       "\n",
       "    .dataframe tbody tr th {\n",
       "        vertical-align: top;\n",
       "    }\n",
       "\n",
       "    .dataframe thead th {\n",
       "        text-align: right;\n",
       "    }\n",
       "</style>\n",
       "<table border=\"1\" class=\"dataframe\">\n",
       "  <thead>\n",
       "    <tr style=\"text-align: right;\">\n",
       "      <th></th>\n",
       "      <th>premise</th>\n",
       "      <th>hypothesis</th>\n",
       "      <th>label</th>\n",
       "      <th>type</th>\n",
       "    </tr>\n",
       "  </thead>\n",
       "  <tbody>\n",
       "    <tr>\n",
       "      <th>0</th>\n",
       "      <td>As people walk by it is a woman who is eating ...</td>\n",
       "      <td>It is a woman who is eating lunch while on her...</td>\n",
       "      <td>1</td>\n",
       "      <td>*;it cleft: ARG1;it cleft: ARG1</td>\n",
       "    </tr>\n",
       "    <tr>\n",
       "      <th>1</th>\n",
       "      <td>It is the pitcher wearing black who heaves the...</td>\n",
       "      <td>It is the Yankees who are at practice.</td>\n",
       "      <td>1</td>\n",
       "      <td>*;it cleft: ARG1;it cleft: ARG1</td>\n",
       "    </tr>\n",
       "    <tr>\n",
       "      <th>2</th>\n",
       "      <td>A group of Chinese people may be relaxing in t...</td>\n",
       "      <td>A group of Americans are in water.</td>\n",
       "      <td>1</td>\n",
       "      <td>contradiction;may;original</td>\n",
       "    </tr>\n",
       "    <tr>\n",
       "      <th>3</th>\n",
       "      <td>A group of Chinese people may be relaxing in t...</td>\n",
       "      <td>A group of Americans may be in water.</td>\n",
       "      <td>1</td>\n",
       "      <td>contradiction;may;may</td>\n",
       "    </tr>\n",
       "    <tr>\n",
       "      <th>4</th>\n",
       "      <td>It is a group of Chinese people who is relaxin...</td>\n",
       "      <td>It is a group of Americans which is in water.</td>\n",
       "      <td>2</td>\n",
       "      <td>*;it cleft: ARG1;it cleft: ARG1</td>\n",
       "    </tr>\n",
       "    <tr>\n",
       "      <th>...</th>\n",
       "      <td>...</td>\n",
       "      <td>...</td>\n",
       "      <td>...</td>\n",
       "      <td>...</td>\n",
       "    </tr>\n",
       "    <tr>\n",
       "      <th>4199</th>\n",
       "      <td>A woman may observe an antique car rusted.</td>\n",
       "      <td>A woman may look at an old car.</td>\n",
       "      <td>1</td>\n",
       "      <td>entailment;may;may</td>\n",
       "    </tr>\n",
       "    <tr>\n",
       "      <th>4200</th>\n",
       "      <td>A rusted antique car is observed by a woman.</td>\n",
       "      <td>An old car is looked at by a woman.</td>\n",
       "      <td>0</td>\n",
       "      <td>*;passive: ARG2;passive: ARG2</td>\n",
       "    </tr>\n",
       "    <tr>\n",
       "      <th>4201</th>\n",
       "      <td>It is a woman who observes an antique car rusted.</td>\n",
       "      <td>It is a woman who looks at an old car.</td>\n",
       "      <td>0</td>\n",
       "      <td>*;it cleft: ARG1;it cleft: ARG1</td>\n",
       "    </tr>\n",
       "    <tr>\n",
       "      <th>4202</th>\n",
       "      <td>It is a woman who observed an antique car rusted.</td>\n",
       "      <td>It is a woman who will look at an old car.</td>\n",
       "      <td>1</td>\n",
       "      <td>entailment;past simple+it cleft: ARG1;future s...</td>\n",
       "    </tr>\n",
       "    <tr>\n",
       "      <th>4203</th>\n",
       "      <td>A rusted antique car was observed by a woman.</td>\n",
       "      <td>An old car will be looked at by a woman.</td>\n",
       "      <td>1</td>\n",
       "      <td>entailment;past simple+passive: ARG2;future si...</td>\n",
       "    </tr>\n",
       "  </tbody>\n",
       "</table>\n",
       "<p>4204 rows × 4 columns</p>\n",
       "</div>"
      ],
      "text/plain": [
       "                                                premise  \\\n",
       "0     As people walk by it is a woman who is eating ...   \n",
       "1     It is the pitcher wearing black who heaves the...   \n",
       "2     A group of Chinese people may be relaxing in t...   \n",
       "3     A group of Chinese people may be relaxing in t...   \n",
       "4     It is a group of Chinese people who is relaxin...   \n",
       "...                                                 ...   \n",
       "4199         A woman may observe an antique car rusted.   \n",
       "4200       A rusted antique car is observed by a woman.   \n",
       "4201  It is a woman who observes an antique car rusted.   \n",
       "4202  It is a woman who observed an antique car rusted.   \n",
       "4203      A rusted antique car was observed by a woman.   \n",
       "\n",
       "                                             hypothesis  label  \\\n",
       "0     It is a woman who is eating lunch while on her...      1   \n",
       "1                It is the Yankees who are at practice.      1   \n",
       "2                    A group of Americans are in water.      1   \n",
       "3                 A group of Americans may be in water.      1   \n",
       "4         It is a group of Americans which is in water.      2   \n",
       "...                                                 ...    ...   \n",
       "4199                    A woman may look at an old car.      1   \n",
       "4200                An old car is looked at by a woman.      0   \n",
       "4201             It is a woman who looks at an old car.      0   \n",
       "4202         It is a woman who will look at an old car.      1   \n",
       "4203           An old car will be looked at by a woman.      1   \n",
       "\n",
       "                                                   type  \n",
       "0                       *;it cleft: ARG1;it cleft: ARG1  \n",
       "1                       *;it cleft: ARG1;it cleft: ARG1  \n",
       "2                            contradiction;may;original  \n",
       "3                                 contradiction;may;may  \n",
       "4                       *;it cleft: ARG1;it cleft: ARG1  \n",
       "...                                                 ...  \n",
       "4199                                 entailment;may;may  \n",
       "4200                      *;passive: ARG2;passive: ARG2  \n",
       "4201                    *;it cleft: ARG1;it cleft: ARG1  \n",
       "4202  entailment;past simple+it cleft: ARG1;future s...  \n",
       "4203  entailment;past simple+passive: ARG2;future si...  \n",
       "\n",
       "[4204 rows x 4 columns]"
      ]
     },
     "execution_count": 33,
     "metadata": {},
     "output_type": "execute_result"
    }
   ],
   "source": [
    "data=pd.read_csv('LIT_auto-gen-contrast-set/generate/snli_aug/validation.tsv',sep='\\t')\n",
    "data2 =  data[data['captionID']!='original' ].reset_index()\n",
    "data3 = data2[ ['sentence1','sentence2','gold_label','captionID'] ]\n",
    "data4 = data3.replace({\"gold_label\": labelMap})\n",
    "contrast_eval = data4.rename(columns={'sentence1': 'premise', 'sentence2': 'hypothesis', 'gold_label': 'label', 'captionID': 'type'})\n",
    "contrast_eval"
   ]
  },
  {
   "cell_type": "code",
   "execution_count": 34,
   "metadata": {},
   "outputs": [],
   "source": [
    "output_path = \"contrast/validation.jsonl\"\n",
    "\n",
    "with open(output_path, \"w\") as f:\n",
    "    f.write(contrast_eval.to_json(orient='records', lines=True))"
   ]
  },
  {
   "cell_type": "markdown",
   "metadata": {},
   "source": [
    "The contrast training dataset size around 189,114\n",
    "The contrast validation dataset size around 4204"
   ]
  },
  {
   "cell_type": "markdown",
   "metadata": {},
   "source": [
    "## Running Evaludation on SNLI and Contrast Validation Dataset on Pretrained Model"
   ]
  },
  {
   "cell_type": "code",
   "execution_count": 36,
   "metadata": {},
   "outputs": [],
   "source": [
    "# python3 run.py --do_eval --task nli --dataset snli --model ./trained_model/checkpoint-206000   --output_dir ./eval_output/snli/\n",
    "# python3 run.py --do_eval --task nli --dataset contrast/validation.jsonl   --model ./trained_model/checkpoint-206000   --output_dir ./eval_output/contrast/"
   ]
  },
  {
   "cell_type": "markdown",
   "metadata": {},
   "source": [
    "Evaluation results: <br><br>\n",
    "SNLI: <br>\n",
    "{'eval_loss': 0.3796271085739136, 'eval_accuracy': 0.8947368264198303, 'eval_runtime': 15.2123, 'eval_samples_per_second': 646.977, 'eval_steps_per_second': 80.921} <br><br>\n",
    "Contrast: <br>\n",
    "{'eval_loss': 2.7356245517730713, 'eval_accuracy': 0.454091340303421, 'eval_runtime': 7.0502, 'eval_samples_per_second': 596.296, 'eval_steps_per_second': 74.608}"
   ]
  },
  {
   "cell_type": "markdown",
   "metadata": {},
   "source": [
    "### TODO: need to categorize error types and visualize them"
   ]
  },
  {
   "cell_type": "code",
   "execution_count": null,
   "metadata": {},
   "outputs": [],
   "source": [
    "# Much work needs to be done here"
   ]
  },
  {
   "cell_type": "markdown",
   "metadata": {},
   "source": [
    "## Finetune on Contrast Training Dataset"
   ]
  },
  {
   "cell_type": "code",
   "execution_count": null,
   "metadata": {},
   "outputs": [],
   "source": [
    "# python3 run.py --do_train --task nli --dataset contrast/train.jsonl --output_dir ./trained_model/  --model trained_model/checkpoint-206000"
   ]
  },
  {
   "cell_type": "markdown",
   "metadata": {},
   "source": [
    "Evaluation results: <br><br>\n",
    "SNLI: <br>\n",
    "{'eval_loss': 0.5675817131996155, 'eval_accuracy': 0.8639504313468933, 'eval_runtime': 15.3651, 'eval_samples_per_second': 640.543, 'eval_steps_per_second': 80.117} <br><br>\n",
    "Contrast: <br>\n",
    "{'eval_loss': 0.24433456361293793, 'eval_accuracy': 0.940057098865509, 'eval_runtime': 6.8735, 'eval_samples_per_second': 611.623, 'eval_steps_per_second': 76.526}"
   ]
  },
  {
   "cell_type": "markdown",
   "metadata": {},
   "source": [
    "## Additional Work:\n",
    "- Generate Adversarial Dataset and Finetune (risk)\n",
    "- Blend Original Training Dataset, Contrast Dataset, Adversarial Dataset, and Finetune\n"
   ]
  },
  {
   "cell_type": "markdown",
   "metadata": {},
   "source": []
  }
 ],
 "metadata": {
  "interpreter": {
   "hash": "bcbecc1ab860cb059c568f2b3e72029f1530d06f216b3aa5d7ca0d49f3a3ace2"
  },
  "kernelspec": {
   "display_name": "Python 3.11.3 64-bit ('torch': conda)",
   "language": "python",
   "name": "python3"
  },
  "language_info": {
   "codemirror_mode": {
    "name": "ipython",
    "version": 3
   },
   "file_extension": ".py",
   "mimetype": "text/x-python",
   "name": "python",
   "nbconvert_exporter": "python",
   "pygments_lexer": "ipython3",
   "version": "3.11.5"
  },
  "orig_nbformat": 4
 },
 "nbformat": 4,
 "nbformat_minor": 2
}
